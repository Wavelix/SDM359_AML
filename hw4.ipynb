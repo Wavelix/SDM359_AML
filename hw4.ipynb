{
 "cells": [
  {
   "cell_type": "markdown",
   "metadata": {},
   "source": [
    "- Weight从标准正态分布中采样再乘以$0.01$获得；\n",
    "- 激活函数采用hyperbolic tangent function;\n",
    "$$\n",
    "\\delta^z(k)=d(k)-z(k)\n",
    "$$\n",
    "$$\n",
    "\\delta^y_i(k)=(d(k)-z(k))v_i(k)\\Phi'(y_i(k))\n",
    "$$\n",
    "$$\n",
    "\\frac{\\partial E}{\\partial v_i}=(d(k)-z(k))\\cdot (-y_{fi}(k))=-\\delta^z(k)\\cdot y_{fi}(k)\n",
    "$$\n",
    "$$\n",
    "\\frac{\\partial E}{\\partial w_{il}}=(d(k)-z(k))(-v_i(k))\\Phi'(y_i(k))x_l(k)=-\\delta^y_i(k)x_l(k)\n",
    "$$"
   ]
  },
  {
   "cell_type": "code",
   "execution_count": 2,
   "metadata": {},
   "outputs": [
    {
     "name": "stdout",
     "output_type": "stream",
     "text": [
      "Output: [[-1.97886862e-14 -3.31465472e-14  1.00000000e+00  1.00000000e+00]]\n",
      "target: [[0 0 1 1]]\n",
      "error: [[1.97886862e-14 3.31465472e-14 5.02931030e-14 5.00710584e-14]]\n",
      "W: [[-0.57992354  0.77938485  0.77927355]\n",
      " [-0.85403968  2.16906055  2.16849507]]\n",
      "V: [[-2.1943986   1.65443932]]\n"
     ]
    }
   ],
   "source": [
    "import numpy as np\n",
    "\n",
    "X = np.array([\n",
    "    [1, 0, 0],\n",
    "    [1, 1, 1],\n",
    "    [1, 0, 1],\n",
    "    [1, 1, 0]\n",
    "]).T\n",
    "\n",
    "d = np.array([0, 0, 1, 1]).reshape(1, 4)\n",
    "\n",
    "W = np.random.randn(2, 3) * 0.01\n",
    "V = np.random.randn(1, 2) * 0.01\n",
    "\n",
    "learning_rate = 0.1\n",
    "max_epochs = 10000\n",
    "z=np.zeros((1, 4))\n",
    "\n",
    "for epoch in range(max_epochs):\n",
    "    y = W @ X\n",
    "    y_f = np.tanh(y)\n",
    "    z = V @ y_f\n",
    "\n",
    "    delta_z = z - d\n",
    "    dE_dV = (delta_z @ y_f.T)\n",
    "\n",
    "    delta_y = (V.T @ delta_z) * (1 - y_f ** 2)\n",
    "    dE_dW = (delta_y @ X.T)\n",
    "\n",
    "    V -= learning_rate * dE_dV\n",
    "    W -= learning_rate * dE_dW\n",
    "\n",
    "print(\"Output:\", z)\n",
    "print(\"target:\", d)\n",
    "print(\"error:\", np.abs(z - d))\n",
    "print(\"W:\", W )\n",
    "print(\"V:\", V)"
   ]
  }
 ],
 "metadata": {
  "kernelspec": {
   "display_name": "base",
   "language": "python",
   "name": "python3"
  },
  "language_info": {
   "codemirror_mode": {
    "name": "ipython",
    "version": 3
   },
   "file_extension": ".py",
   "mimetype": "text/x-python",
   "name": "python",
   "nbconvert_exporter": "python",
   "pygments_lexer": "ipython3",
   "version": "3.12.7"
  }
 },
 "nbformat": 4,
 "nbformat_minor": 2
}
